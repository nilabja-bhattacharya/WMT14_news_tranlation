{
 "cells": [
  {
   "cell_type": "code",
   "execution_count": 60,
   "metadata": {},
   "outputs": [
    {
     "name": "stdout",
     "output_type": "stream",
     "text": [
      "intercorp\t1-1\t1.0\tHe took it very hard .\tउसके दिल को गहरा सदमा पहुँचा था ।\n",
      "\n"
     ]
    }
   ],
   "source": [
    "with open('corpus/hindencorp0.1-tokenized-1-1', 'r') as f:\n",
    "    content = f.readlines()\n",
    "    print(content[2])\n",
    "content = [x.split(\"\\n\") for x in content] "
   ]
  },
  {
   "cell_type": "code",
   "execution_count": 61,
   "metadata": {},
   "outputs": [],
   "source": [
    "e = open('corpus/hindientokenised.en', 'w')\n",
    "h = open('corpus/hindientokenised.hi', 'w')\n",
    "el = []\n",
    "hl = []\n",
    "for i in content:\n",
    "    try:\n",
    "        #print(i)\n",
    "        x = i[0].split(\"\\t\")\n",
    "        #print(x)\n",
    "        if(x[3] and x[4]):\n",
    "            el.append(x[3])\n",
    "            hl.append(x[4])\n",
    "            e.write(x[3]+\"\\n\")\n",
    "            h.write(x[4]+\"\\n\")\n",
    "    except:\n",
    "        pass\n",
    "    "
   ]
  },
  {
   "cell_type": "code",
   "execution_count": 62,
   "metadata": {},
   "outputs": [
    {
     "name": "stdout",
     "output_type": "stream",
     "text": [
      "274485 274485\n"
     ]
    }
   ],
   "source": [
    "print(len(el), len(hl))"
   ]
  },
  {
   "cell_type": "code",
   "execution_count": 1,
   "metadata": {},
   "outputs": [],
   "source": [
    "e = open('corpus/hindien.en', 'r')\n",
    "h = open('corpus/hindien.hi', 'r')\n",
    "el = []\n",
    "hl = []\n",
    "for (x, y) in zip(e, h):\n",
    "    el.append(x)\n",
    "    hl.append(y)"
   ]
  },
  {
   "cell_type": "code",
   "execution_count": 2,
   "metadata": {},
   "outputs": [],
   "source": [
    "from sklearn.model_selection import train_test_split\n",
    "X, X_test, Y, y_test = train_test_split(\n",
    "    el, hl, test_size=0.2, random_state=1)"
   ]
  },
  {
   "cell_type": "code",
   "execution_count": 3,
   "metadata": {},
   "outputs": [
    {
     "name": "stdout",
     "output_type": "stream",
     "text": [
      "224729 224729\n",
      "According to 74 as for the ministry leadership is necessity for prime minister presence in this position all minister must sacrifice their post.\n",
      " अनु 74 स्पष्ट रूप से मंत्रिपरिषद की अध्यक्षता तथा संचालन हेतु प्रधानम्ंत्री की उपस्तिथि आवश्यक मानता है उसकी मृत्यु या त्यागपत्र की द्शा मे समस्त परिषद को पद छोडना पडता है वह अकेले ही मंत्री परिषद का गठन करता है राष्ट्रपति मंत्री गण की नियुक्ति उस की सलाह से ही करता है मंत्री गण के विभाग का निर्धारण भी वही करता है कैबिनेट के कार्य का निर्धारण भी वही करता है देश के प्रशासन को निर्देश भी वही देता है सभी नीतिगत निर्णय वही लेता है राष्ट्रपति तथा मंत्री परिषद के मध्य संपर्क सूत्र भी वही है परिषद का प्रधान प्रवक्ता भी वही है परिषद के नाम से लडी जाने वाली संसदीय बहसॉ का नेतृत्व करता है संसद मे परिषद के पक्ष मे लडी जा रही किसी भी बहस मे वह भाग ले सकता है मन्त्री गण के मध्य समन्वय भी वही करता है वह किसी भी मंत्रालय से कोई भी सूचना मंगवा सकता है इन सब कारणॉ के चलते प्रधानम्ंत्री को देश का सबसे मह्त्वपूर्ण राजनैतिक व्यक्तित्व माना जाता है\n",
      "\n"
     ]
    }
   ],
   "source": [
    "print(len(X),len(Y))\n",
    "print(X[0], Y[0])"
   ]
  },
  {
   "cell_type": "code",
   "execution_count": 4,
   "metadata": {},
   "outputs": [],
   "source": [
    "X_train, X_dev, y_train, y_dev = train_test_split(\n",
    "    X, Y, test_size=0.1, random_state=1)"
   ]
  },
  {
   "cell_type": "code",
   "execution_count": 7,
   "metadata": {},
   "outputs": [],
   "source": [
    "e = open('corpus/hindien-train.en', 'w')\n",
    "h = open('corpus/hindien-train.hi', 'w')\n",
    "for (x, y) in zip(X_train, y_train):\n",
    "    e.write(x)\n",
    "    h.write(y)"
   ]
  },
  {
   "cell_type": "code",
   "execution_count": 2,
   "metadata": {},
   "outputs": [
    {
     "name": "stdout",
     "output_type": "stream",
     "text": [
      "['start', 'the', 'live', 'system', '.', 'if', 'you', 'wish', ',', 'you', 'on', 'the', 'later', 'in', 'the', '&quot;', 'Install', '&quot;', 'icon', 'to', 'use', 'the', 'can', 'install', 'it', '.'] ['start', 'the', 'live', 'system', '.', 'if', 'you', 'wish', ',', 'you', 'can', 'install', 'it', 'later', 'using', 'the', '&quot;', 'Install', '&quot;', 'icon', 'on', 'the', 'desktop', '.']\n",
      "The bleu score is: 0.2540747212888331\n"
     ]
    }
   ],
   "source": [
    "from nltk.translate.bleu_score import sentence_bleu\n",
    "from nltk.translate.bleu_score import SmoothingFunction\n",
    "smoothie = SmoothingFunction().method5\n",
    "reference = open('corpus/hindien-test.true.en', 'r').readlines()\n",
    "candidate = open('working/hindien-test.translated.en', 'r').readlines()\n",
    "score = 0.\n",
    "print(candidate[0].strip().split(), reference[0].strip().split())\n",
    "for i in range(len(reference)):\n",
    "    score += sentence_bleu([reference[i].strip().split()], candidate[i].strip().split(), smoothing_function=smoothie)\n",
    "\n",
    "score /= len(reference)\n",
    "print(\"The bleu score is: \"+str(score))\n",
    "    "
   ]
  },
  {
   "cell_type": "code",
   "execution_count": null,
   "metadata": {},
   "outputs": [],
   "source": []
  }
 ],
 "metadata": {
  "kernelspec": {
   "display_name": "Python 3",
   "language": "python",
   "name": "python3"
  },
  "language_info": {
   "codemirror_mode": {
    "name": "ipython",
    "version": 3
   },
   "file_extension": ".py",
   "mimetype": "text/x-python",
   "name": "python",
   "nbconvert_exporter": "python",
   "pygments_lexer": "ipython3",
   "version": "3.7.3"
  }
 },
 "nbformat": 4,
 "nbformat_minor": 2
}
